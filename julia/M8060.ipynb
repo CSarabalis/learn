{
 "metadata": {
  "language": "Julia",
  "name": ""
 },
 "nbformat": 3,
 "nbformat_minor": 0,
 "worksheets": [
  {
   "cells": [
    {
     "cell_type": "heading",
     "level": 1,
     "metadata": {
      "slideshow": {
       "slide_type": "slide"
      }
     },
     "source": [
      "M8060 How to Computer: An Introduction to Calculus and Numerical Analysis"
     ]
    },
    {
     "cell_type": "markdown",
     "metadata": {
      "slideshow": {
       "slide_type": "slide"
      }
     },
     "source": [
      "Chris Sarabalis\n",
      "\n",
      "dreambig@mit.edu\n",
      "\n",
      "created 11/24/2013"
     ]
    },
    {
     "cell_type": "markdown",
     "metadata": {
      "slideshow": {
       "slide_type": "slide"
      }
     },
     "source": [
      "_________________________\n",
      "\n",
      "# Table of Contents\n",
      "1. How to Julia\n",
      "  * About Julia and Installation\n",
      "  * Operations\n",
      "  * Variables, Arrays, Matrices, Lists\n",
      "  * Strings\n",
      "  * Functions\n",
      "  * Documentation\n",
      "2. Graphing\n",
      "  * Cartesian Plots\n",
      "  * Parametric Plots\n",
      "4. Calculus\n",
      "    * The infinitesimal\n",
      "  2. The Derivative\n",
      "    * Functions of functions\n",
      "    * Defintion of a derivative modulo rigor\n",
      "    * Center difference: approximating the derivative\n",
      "    * Convergence of the center difference to the derivative: second-order accuracy\n",
      "    * Derivative of the Gaussian\n",
      "    * Differentiating our favorite functions\n",
      "    * Rules for differentiation: sum, product, and chain rule\n",
      "  3. Integration\n",
      "    * Riemann sums\n",
      "    * Combining the left and right Riemann sum\n",
      "    * Performance of our functions\n",
      "    * Convergence of our centered Riemann sum to the integral\n",
      "    * Integrating our favourite functions\n",
      "    * Relating the integrals we found to the derivatives we found\n",
      "  4. Newton & Liebniz so I can too: Rediscovering the Fundamental Theorem of Calculus\n",
      "    * Challenge: discover the fundamental theorem of calculus\n",
      "  \n",
      "_______________________"
     ]
    },
    {
     "cell_type": "heading",
     "level": 2,
     "metadata": {
      "slideshow": {
       "slide_type": "slide"
      }
     },
     "source": [
      "How to Julia: An Introduction to Computing in Julia"
     ]
    },
    {
     "cell_type": "markdown",
     "metadata": {
      "slideshow": {
       "slide_type": "slide"
      }
     },
     "source": [
      "Julia is a fairly new language developed for scientific computing here at MIT by Jeff Bezanson, Stefan Karpinski, Viral B. Shah, and Alan Edelman.  Work on Julia began in 2009.  Julia was publicly released in February 2012.\n",
      "\n",
      "We won't go over how to install Julia on your computer.  There are great [notes by Prof. Steven Johnson](https://github.com/stevengj/julia-mit/blob/master/README.md) available on github.\n",
      "\n",
      "____"
     ]
    },
    {
     "cell_type": "heading",
     "level": 3,
     "metadata": {
      "slideshow": {
       "slide_type": "slide"
      }
     },
     "source": [
      "\n",
      "Operations"
     ]
    },
    {
     "cell_type": "markdown",
     "metadata": {
      "slideshow": {
       "slide_type": "slide"
      }
     },
     "source": [
      "Julia has all the operators you know and love.  Addition, subtraction, multiplication, division, exponentiation, modulo, logical operators... all the good stuff.\n",
      "\n",
      "To evaluate a cell in this iJulia notebook, highlight a cell and hit <code>Shift+Enter</code>."
     ]
    },
    {
     "cell_type": "code",
     "collapsed": false,
     "input": [
      "1 + 1"
     ],
     "language": "python",
     "metadata": {
      "slideshow": {
       "slide_type": "slide"
      }
     },
     "outputs": []
    },
    {
     "cell_type": "markdown",
     "metadata": {},
     "source": [
      "Above we added two integers, so julia returns an integer.\n",
      "\n",
      "___\n",
      "\n",
      "Below we'll multiply two nonintegers, which will be approximately represented by julia as a <a href=\"http://en.wikipedia.org/wiki/Floating_point\">floating point number</a>."
     ]
    },
    {
     "cell_type": "code",
     "collapsed": true,
     "input": [
      "3.4601 * 3.1415926535897"
     ],
     "language": "python",
     "metadata": {},
     "outputs": []
    },
    {
     "cell_type": "markdown",
     "metadata": {},
     "source": [
      "___\n",
      "Notice what happens when we mix an integer and a noninteger."
     ]
    },
    {
     "cell_type": "code",
     "collapsed": false,
     "input": [
      "13 - 12.0"
     ],
     "language": "python",
     "metadata": {},
     "outputs": []
    },
    {
     "cell_type": "markdown",
     "metadata": {},
     "source": [
      "___\n",
      "You can check the **type** of an object by using julia's standard <code> typeof() </code> function."
     ]
    },
    {
     "cell_type": "code",
     "collapsed": false,
     "input": [
      "typeof(13)"
     ],
     "language": "python",
     "metadata": {},
     "outputs": []
    },
    {
     "cell_type": "code",
     "collapsed": false,
     "input": [
      "typeof(13.0)"
     ],
     "language": "python",
     "metadata": {},
     "outputs": []
    },
    {
     "cell_type": "markdown",
     "metadata": {},
     "source": [
      "The 64 in <code>Int64</code> and <code>Float64</code> means that 64 bits, or 1's and 0's, are used to store that number in memory.\n",
      "\n",
      "___"
     ]
    },
    {
     "cell_type": "markdown",
     "metadata": {},
     "source": [
      "We can also use prefix notation, rather than the infix notation you're used to from math class.  Prefix notation is more common in programming."
     ]
    },
    {
     "cell_type": "code",
     "collapsed": false,
     "input": [
      "pi/16"
     ],
     "language": "python",
     "metadata": {},
     "outputs": []
    },
    {
     "cell_type": "code",
     "collapsed": false,
     "input": [
      "/(pi,16)"
     ],
     "language": "python",
     "metadata": {},
     "outputs": []
    },
    {
     "cell_type": "markdown",
     "metadata": {},
     "source": [
      "Convince yourself that it doesn't matter which way you write division (or any operator).  Either way, it's still division.\n",
      "\n",
      "____"
     ]
    },
    {
     "cell_type": "markdown",
     "metadata": {},
     "source": [
      "The modulo operator returns the remainder after division."
     ]
    },
    {
     "cell_type": "code",
     "collapsed": false,
     "input": [
      "13 % 4"
     ],
     "language": "python",
     "metadata": {},
     "outputs": []
    },
    {
     "cell_type": "markdown",
     "metadata": {},
     "source": [
      "___"
     ]
    },
    {
     "cell_type": "markdown",
     "metadata": {},
     "source": [
      "Exponentiation is called with a carrot ^ as in <code>a^2</code> for $a^2$."
     ]
    },
    {
     "cell_type": "code",
     "collapsed": false,
     "input": [
      "[ 3^2, 4^2, 5^2 ]"
     ],
     "language": "python",
     "metadata": {},
     "outputs": []
    },
    {
     "cell_type": "markdown",
     "metadata": {},
     "source": [
      "____\n",
      "Explore how julia handles order of operations. \n",
      "\n",
      "You can use parantheses as in $(2 + 3) * 2 = 10$."
     ]
    },
    {
     "cell_type": "code",
     "collapsed": false,
     "input": [],
     "language": "python",
     "metadata": {},
     "outputs": []
    },
    {
     "cell_type": "markdown",
     "metadata": {},
     "source": [
      "___\n",
      "Julia plays nicely with complex numbers. If you haven't seen complex numbers before, we can go over them for fun, but don't worry too much. We won't use them."
     ]
    },
    {
     "cell_type": "code",
     "collapsed": false,
     "input": [
      "println( (3 + 5im) *     (1 + 2im) )\n",
      "println( (3 + 4im) * conj(3 + 4im) )\n",
      "println( sqrt( 2im ) )  # You may remember from an algebra class that this is easier to do\n",
      "                        # in the polar representation of complex numbers."
     ],
     "language": "python",
     "metadata": {},
     "outputs": []
    },
    {
     "cell_type": "markdown",
     "metadata": {},
     "source": [
      "___"
     ]
    },
    {
     "cell_type": "heading",
     "level": 3,
     "metadata": {},
     "source": [
      "Arrays, Matrices, and Lists"
     ]
    },
    {
     "cell_type": "markdown",
     "metadata": {},
     "source": [
      "You probably thought, what's this thing with \\[ square brackets \\], in the exponentiation computation above.  It's an **array**."
     ]
    },
    {
     "cell_type": "code",
     "collapsed": false,
     "input": [
      "a = [ 1, 2, 3, 4 ]"
     ],
     "language": "python",
     "metadata": {},
     "outputs": []
    },
    {
     "cell_type": "markdown",
     "metadata": {},
     "source": [
      "We just assigned the array $[ 1, 2, 3, 4 ]$ to the variable $a$.\n",
      "\n",
      "___"
     ]
    },
    {
     "cell_type": "markdown",
     "metadata": {},
     "source": [
      "We can ask julia to return the value of a particular element of an array like so"
     ]
    },
    {
     "cell_type": "code",
     "collapsed": false,
     "input": [
      "a[3]"
     ],
     "language": "python",
     "metadata": {},
     "outputs": []
    },
    {
     "cell_type": "markdown",
     "metadata": {},
     "source": [
      "and reassign the values of the array in a similar manner"
     ]
    },
    {
     "cell_type": "code",
     "collapsed": false,
     "input": [
      "a[3] = 5;  # assign the integer 5 to the third element of array a\n",
      "\n",
      "a          # return the value of a"
     ],
     "language": "python",
     "metadata": {},
     "outputs": []
    },
    {
     "cell_type": "markdown",
     "metadata": {},
     "source": [
      "If you try calling an element that is outside the array (using an index that is bigger than the size of the array), julia will complain.  Test that out."
     ]
    },
    {
     "cell_type": "code",
     "collapsed": false,
     "input": [],
     "language": "python",
     "metadata": {},
     "outputs": []
    },
    {
     "cell_type": "markdown",
     "metadata": {},
     "source": [
      "_____"
     ]
    },
    {
     "cell_type": "markdown",
     "metadata": {},
     "source": [
      "a is an array of integers.  julia will complain if you try to assign a noninteger to an element of a.  Try to do just that and watch how julia laughs at your feeble human mind."
     ]
    },
    {
     "cell_type": "code",
     "collapsed": false,
     "input": [],
     "language": "python",
     "metadata": {},
     "outputs": []
    },
    {
     "cell_type": "markdown",
     "metadata": {},
     "source": [
      "____"
     ]
    },
    {
     "cell_type": "markdown",
     "metadata": {},
     "source": [
      "We can call a and do computations with its much shorter name."
     ]
    },
    {
     "cell_type": "code",
     "collapsed": false,
     "input": [
      "[ 2.3, 3.0, 150.0, 0.0 ] .* a"
     ],
     "language": "python",
     "metadata": {},
     "outputs": []
    },
    {
     "cell_type": "markdown",
     "metadata": {},
     "source": [
      "Notice that a period comes before the asterisk which usually represents multiplication.\n",
      "This period tells julia to perform the operation **elementwise**.  In other words, the $i\\textrm{th}$ element of the resulting array should be the operation performed on the $i\\textrm{th}$ element of each array.\n",
      "\n",
      "We can once again use prefix notation instead of infix notation."
     ]
    },
    {
     "cell_type": "code",
     "collapsed": false,
     "input": [
      "b = [ 2.3, 3.0, 150.0, 0.0 ]\n",
      ".*(b,a)"
     ],
     "language": "python",
     "metadata": {},
     "outputs": []
    },
    {
     "cell_type": "markdown",
     "metadata": {},
     "source": [
      "We get the same answer as before.  Removing the period will make julia angry.  Try it.\n",
      "___"
     ]
    },
    {
     "cell_type": "markdown",
     "metadata": {},
     "source": [
      "Elementwise operations only work on objects that have the same shape.  You can't add a and b elementwise (<code>a .+ b</code>) if <code>a</code> and <code>b</code> have different numbers of elements.\n",
      "\n",
      "Assign two arrays of different sizes to variables and attempt to add them elementwise."
     ]
    },
    {
     "cell_type": "code",
     "collapsed": false,
     "input": [],
     "language": "python",
     "metadata": {},
     "outputs": []
    },
    {
     "cell_type": "markdown",
     "metadata": {},
     "source": [
      "____"
     ]
    },
    {
     "cell_type": "markdown",
     "metadata": {},
     "source": [
      "You are probably familiar with matrices from class.  A matrix is an object with two incdices instead of one."
     ]
    },
    {
     "cell_type": "code",
     "collapsed": false,
     "input": [
      "thisIsAMatrix = [1 2 3; 4 5 6; 7 8 pi]"
     ],
     "language": "python",
     "metadata": {},
     "outputs": []
    },
    {
     "cell_type": "markdown",
     "metadata": {},
     "source": [
      "____"
     ]
    },
    {
     "cell_type": "markdown",
     "metadata": {},
     "source": [
      "A list can hold objects of different types."
     ]
    },
    {
     "cell_type": "code",
     "collapsed": false,
     "input": [
      "c = { 1, \"Hello\\n\", 2.30 }"
     ],
     "language": "python",
     "metadata": {},
     "outputs": []
    },
    {
     "cell_type": "code",
     "collapsed": false,
     "input": [
      "c[2]"
     ],
     "language": "python",
     "metadata": {},
     "outputs": []
    },
    {
     "cell_type": "markdown",
     "metadata": {},
     "source": [
      "___"
     ]
    },
    {
     "cell_type": "heading",
     "level": 3,
     "metadata": {},
     "source": [
      "Strings"
     ]
    },
    {
     "cell_type": "markdown",
     "metadata": {},
     "source": [
      "In the above, \"Hello\" is a data type known as a string.  String manipulation is important, although we won't focus on it here."
     ]
    },
    {
     "cell_type": "code",
     "collapsed": false,
     "input": [
      "typeof(\"Hello\")"
     ],
     "language": "python",
     "metadata": {},
     "outputs": []
    },
    {
     "cell_type": "markdown",
     "metadata": {},
     "source": [
      "You can grab a character of the string as you would an element of an array."
     ]
    },
    {
     "cell_type": "code",
     "collapsed": false,
     "input": [
      "aString = \"banjo\"\n",
      "aString[2]"
     ],
     "language": "python",
     "metadata": {},
     "outputs": []
    },
    {
     "cell_type": "code",
     "collapsed": false,
     "input": [
      "typeof(aString[2]) == typeof('a')"
     ],
     "language": "python",
     "metadata": {},
     "outputs": []
    },
    {
     "cell_type": "markdown",
     "metadata": {},
     "source": [
      "___"
     ]
    },
    {
     "cell_type": "heading",
     "level": 3,
     "metadata": {},
     "source": [
      "Functions"
     ]
    },
    {
     "cell_type": "markdown",
     "metadata": {},
     "source": [
      "Functions are awesome.  Just like the functions you know from math, they take in some values (which we call arguments), perform some operation, and return some value."
     ]
    },
    {
     "cell_type": "code",
     "collapsed": false,
     "input": [
      "f(x) = x^2 + 4*x - 5            # this is a parabola.   do you remember how to factorize this?\n",
      "[f(-5), f(sqrt(e)), f(f(-5))]   #  here we play around with f"
     ],
     "language": "python",
     "metadata": {},
     "outputs": []
    },
    {
     "cell_type": "markdown",
     "metadata": {},
     "source": [
      "Why is the array output above of type Float64?\n",
      "___"
     ]
    },
    {
     "cell_type": "markdown",
     "metadata": {},
     "source": [
      "There is another syntax for defining functions that's nicer for functions with multiple lines."
     ]
    },
    {
     "cell_type": "code",
     "collapsed": false,
     "input": [
      "function addAndPrint(x,y)\n",
      "    theSum = x + y\n",
      "    print(\"You added $x to \", y, \" and got $theSum\" )\n",
      "end"
     ],
     "language": "python",
     "metadata": {},
     "outputs": []
    },
    {
     "cell_type": "code",
     "collapsed": false,
     "input": [
      "addAndPrint(1, 10.5)"
     ],
     "language": "python",
     "metadata": {},
     "outputs": []
    },
    {
     "cell_type": "markdown",
     "metadata": {},
     "source": [
      "Make a function that has one argument, X, and prints *Hello, X!*."
     ]
    },
    {
     "cell_type": "code",
     "collapsed": false,
     "input": [],
     "language": "python",
     "metadata": {},
     "outputs": []
    },
    {
     "cell_type": "markdown",
     "metadata": {},
     "source": [
      "___\n",
      "\n",
      "There's another way to specify functions without naming them.  These are called **anonymous functions**.  We'll make use of this later on."
     ]
    },
    {
     "cell_type": "code",
     "collapsed": false,
     "input": [
      "(x -> sin(x).^2 % 0.005)(3)"
     ],
     "language": "python",
     "metadata": {},
     "outputs": []
    },
    {
     "cell_type": "markdown",
     "metadata": {},
     "source": [
      "___\n",
      "\n",
      "If you define functions nicely, they will behave when given multiple data types.  For example, the function below will not work for arrays."
     ]
    },
    {
     "cell_type": "code",
     "collapsed": false,
     "input": [
      "function square(x)\n",
      "    return x*x\n",
      "end\n",
      "\n",
      "square(square(2))"
     ],
     "language": "python",
     "metadata": {},
     "outputs": []
    },
    {
     "cell_type": "code",
     "collapsed": false,
     "input": [
      "square([1 2])"
     ],
     "language": "python",
     "metadata": {},
     "outputs": []
    },
    {
     "cell_type": "markdown",
     "metadata": {},
     "source": [
      "Rewrite the function above to work for arrays."
     ]
    },
    {
     "cell_type": "code",
     "collapsed": false,
     "input": [],
     "language": "python",
     "metadata": {},
     "outputs": []
    },
    {
     "cell_type": "heading",
     "level": 3,
     "metadata": {},
     "source": [
      "Documentation"
     ]
    },
    {
     "cell_type": "markdown",
     "metadata": {},
     "source": [
      "This lesson is just a very brief introduction to julia.  If you plan on using julia, it's important that you know how to learn about it.\n",
      "\n",
      "Lucky for you, the creators of julia have worked very hard to document the language and there is wonderfully understandable explanations of the functions and the structure of julia at [julialang.org](http://julialang.org) (the manual on the docs page overviews the structure of julia, the standard library tells you about all the functions that come with julia).\n",
      "\n",
      "Looking through the manual is nice, but one of the best ways to learn julia is to play with it.  Just find other people's code and see how it works.  [Rosetta Code](http://rosettacode.org/) has many examples of julia.\n",
      "\n",
      "If you want to learn about plotting using the PyPlot library, you should go to matplotlib's [documentation for PyPot](http://matplotlib.org/api/pyplot_api.html).\n",
      "\n",
      "___"
     ]
    },
    {
     "cell_type": "heading",
     "level": 2,
     "metadata": {},
     "source": [
      "Graphing"
     ]
    },
    {
     "cell_type": "markdown",
     "metadata": {},
     "source": [
      "Perhaps you've seen the Gaussian distribution in statistics.  Surely you've heard of a \"bell curve\". The form of the Gaussian or normal distribution with normalization\u00a0A, standard deviation $\\sigma$, and mean $\\mu$ is\n",
      "$$ G_{A,\\mu,\\sigma}(x) = \\frac{A}{\\sqrt{2\\pi\\sigma^2}} \\exp^{-\\frac{(x-\\mu)^2}{2\\sigma^2}}.$$\n",
      "\n",
      "We'll first make a function that takes $A$, $\\mu$, and $\\sigma$ and returns the function $G_{A,\\mu,\\sigma}(x)$."
     ]
    },
    {
     "cell_type": "code",
     "collapsed": false,
     "input": [
      "# we define a function that produces Gaussian functions, also called a normal distribution or bell curve\n",
      "\n",
      "function gaussian(A,mu,sigma)\n",
      "    return x -> (A/(sqrt(2*pi*sigma^2)))*exp(-(x-mu).^2/(2*sigma^2))  # This form (x -> operationsOnx) is called an anonymous function\n",
      "end\n",
      "\n",
      "gaussian(1, 2, 3)(2)\n"
     ],
     "language": "python",
     "metadata": {},
     "outputs": []
    },
    {
     "cell_type": "markdown",
     "metadata": {},
     "source": [
      "Notice that we've defined our function with the exponentiation operator prepended by a <code>.</code> so that we can feed our gaussians arrays. Now we'll plot some Gaussians with different values for $\\sigma$."
     ]
    },
    {
     "cell_type": "code",
     "collapsed": false,
     "input": [
      "# import\n",
      "using PyPlot;  # this tells julia to import the PyPlot library\n",
      "\n",
      "# build functions\n",
      "gauss1 = gaussian(1, 0, 1)   # here we define three functions with A = 1, mu = 0, and sigma = 1\n",
      "gauss2 = gaussian(1, 0, 2)   #                                                        sigma = 2\n",
      "gauss3 = gaussian(1, 0, 3)   #                                                        sigma = 3\n",
      "\n",
      "# abscissa\n",
      "x = -5:0.01:5 # this thing (a:b:c) called a \"range\" is the range of values over which we'll plot our Gaussian (abscissa)\n",
      "              #   the range produces values from -5 to 5, stepping by 0.01\n",
      "\n",
      "# plot and label\n",
      "plot(x, [gauss1(x)  gauss2(x)  gauss3(x)])  # think of an array like a column.  plot() will draw several curves if the second argument is a matrix with multiple columns\n",
      "xlabel(\"x\")\n",
      "ylabel(\"G(x)\")\n",
      "legend({L\"$\\sigma = 1$\", \"sigma = 2\", \"sigma = 3\"})  # you can be fancy like me and use LaTeX to typeset the label by prepending the string with an L and enclosing your LaTeX code in $ ... $"
     ],
     "language": "python",
     "metadata": {},
     "outputs": []
    },
    {
     "cell_type": "markdown",
     "metadata": {},
     "source": [
      "You can save your picture with <code>savefig(\"coolGraph.png\")</code>."
     ]
    },
    {
     "cell_type": "markdown",
     "metadata": {},
     "source": [
      "___\n",
      "We can make a parametric plot of a circle with radius 1 by using the coordinate transformation\n",
      "$$ x = \\cos\\theta $$\n",
      "$$ y = \\sin\\theta. $$"
     ]
    },
    {
     "cell_type": "code",
     "collapsed": false,
     "input": [
      "# compute x and y\n",
      "theta = linspace(0,2pi,1000) # 1000 points between 0 and 2 pi\n",
      "x = cos(theta)\n",
      "y = sin(theta)\n",
      "\n",
      "# plot\n",
      "plot(x,y)\n",
      "axis(\"equal\")                # this renders the axes square"
     ],
     "language": "python",
     "metadata": {},
     "outputs": []
    },
    {
     "cell_type": "markdown",
     "metadata": {},
     "source": [
      "___\n",
      "\n",
      "PyPlot provides a bunch of great functions to make all sorts of plots.  Before we move on, let's look at how to make 3D plots with <code>plot3d()</code>."
     ]
    },
    {
     "cell_type": "code",
     "collapsed": false,
     "input": [
      "x = linspace(0,10,1000).*linspace(1,1,1000)'\n",
      "y = x'\n",
      "z = 3*x.^2 - 2*x.*y + 2*y.^2\n"
     ],
     "language": "python",
     "metadata": {},
     "outputs": []
    },
    {
     "cell_type": "heading",
     "level": 2,
     "metadata": {},
     "source": [
      "How to Calculus: An Introduction to the Derivative and the Integral"
     ]
    },
    {
     "cell_type": "markdown",
     "metadata": {},
     "source": [
      "Calculus is all about the infinitesimal.  You've heard of infinity.  The infinitesimal is an infinitely small step.  \n",
      "\n",
      "How many infinitely small steps would it take you to get to the grocery store?  Infinity.\n",
      "\n",
      "This cartoon says it all: \n",
      "\n",
      "![alt A glass of lemonade is just a big collection of drops](http://ocw.mit.edu/courses/mathematics/18-014-calculus-with-theory-fall-2010/18-014f10.jpg \"ha, gottem\")\n",
      "\n",
      "What we're going to try to do is figure out how we can combine the power of the infinitesimal with subtraction and addition.  This will give us the derivative and the integral, respectively."
     ]
    },
    {
     "cell_type": "heading",
     "level": 2,
     "metadata": {},
     "source": [
      "The Derivative: Subtraction plus the infinitesimal"
     ]
    },
    {
     "cell_type": "markdown",
     "metadata": {},
     "source": [
      "____\n",
      "One of the big concepts of single variable calculus is the derivative. \n",
      "The derivative is an operator, like arithmetic ones that you played with at the beginning of this notebook.  \n",
      "Instead of taking in a number or two numbers and returning a number ( <code>+(1,2) == 3</code> ) the derivative takes in a function and returns a function \n",
      "\n",
      "$$\\frac{d}{dx} F(x) = f(x).$$\n",
      "\n",
      "Above taking the derivative of $F(x)$ gives the function $f(x)$.\n",
      "\n",
      "Other ways people write this are below\n",
      "\n",
      "$$ \\frac{dF}{dx}(x) = f(x) $$\n",
      "\n",
      "$$ F^\\prime(x) = f(x) .$$\n",
      "\n"
     ]
    },
    {
     "cell_type": "markdown",
     "metadata": {},
     "source": [
      "___\n",
      "\n",
      "So what kind of operator is the derivative?  What does it do to the function it's given as an argument?\n",
      "\n",
      "> The derivative of a function $F$ is a function $f$ that when given a point $x$ in the domain of $F$ returns the slope of the line tangent to $F$ at $x$. \n",
      "\n",
      "If $\\frac{d}{dx}F(x) = f(x)$, the above says $f(x)$ is the slope of the tangent to $F$ at $x$.\n",
      "\n",
      "![alt A secant and a tangent line are shown on a curve.](http://clas.sa.ucsb.edu/staff/lee/Secant%20and%20Tangent%20lines.gif \"Secants and Tangents\")\n",
      "\n",
      "Alright enough talking.  Let's make a numerical approximation to the derivative and play around with it.  That will give us a lot more intuition for what a derivative is and does.  Our approximation will compute the slope of a secant  that approximates the slope of the tangent at a point, as shown in the figure above.\n",
      "___\n",
      "\n",
      "We'll make two functions with the same name.  The first fits snugly to the definition of a derivative above. The second is more convenient."
     ]
    },
    {
     "cell_type": "code",
     "collapsed": false,
     "input": [
      "# #####################################\n",
      "#\n",
      "# d : center difference function\n",
      "#\n",
      "# First Method d(delta)\n",
      "#\n",
      "#   Given a step size (delta) returns \n",
      "#   a function that takes a function (F)\n",
      "#   and returns a function that computes\n",
      "#   the center difference at (x).\n",
      "# \n",
      "# Second Method d(delta,F,x)\n",
      "#\n",
      "#   Computes the center difference at (x)\n",
      "#   of (F) with step size (delta).\n",
      "#\n",
      "#######################################\n",
      "\n",
      "d(delta)     = (F -> (x -> (F(x+delta/2)-F(x-delta/2))./delta))\n",
      "\n",
      "d(delta,F,x) =             (F(x+delta/2)-F(x-delta/2))./delta    # this will not overwite the previous definition because the function signature is different (ie different # of arguments)"
     ],
     "language": "python",
     "metadata": {},
     "outputs": []
    },
    {
     "cell_type": "markdown",
     "metadata": {},
     "source": [
      "Notice that the output is now \"generic function with 2 methods\" instead of 1.\n",
      "\n",
      "We can see clearly that they do the same thing, but the first is more like the definition above in that <code>d(delta)</code> takes in a function <code>F</code> and returns a function (<code> x -> stuff </code>).  That is to say, they do similar things but their function signatures are different.\n",
      "\n",
      "This center difference function computes the slope of $F(x)$ between $x+\\Delta/2$ and $x-\\Delta/2$.  As $\\Delta$ becomes smaller and smaller, this center difference becomes a better approximation to the derivative of the function $F$.\n",
      "___"
     ]
    },
    {
     "cell_type": "markdown",
     "metadata": {},
     "source": [
      "What do you expect the derivative of a line $m x + b$ to be?"
     ]
    },
    {
     "cell_type": "code",
     "collapsed": false,
     "input": [
      "d(0.001)( x -> 3*x + 2  )(pi/6)"
     ],
     "language": "python",
     "metadata": {},
     "outputs": []
    },
    {
     "cell_type": "markdown",
     "metadata": {},
     "source": [
      "How does this result depend on $\\Delta$? How does it depend on $x$?\n",
      "___"
     ]
    },
    {
     "cell_type": "markdown",
     "metadata": {},
     "source": [
      "The center difference is just an approximation to the derivative.  As the step size $\\Delta$ goes to 0, our center difference approaches the value of the derivative.  This is written like so\n",
      "\n",
      "$$ \\lim_{\\Delta\\to0} d_\\Delta F(x) = \\frac{d}{dx}F(x)$$\n",
      "\n",
      "and we say *the limit of the center difference of $F$ as $\\Delta$ goes to 0 is the derivative of $F$*.\n",
      "\n",
      "That the center difference is an approximation to the derivative, and not the actual derivative (but close!), is an important concept.\n",
      "\n",
      "Now we compute our numerical derivative for various step sizes $\\Delta$ and see how it converges to a constant as $\\Delta \\to 0$."
     ]
    },
    {
     "cell_type": "code",
     "collapsed": false,
     "input": [
      "\n",
      "delta   = linspace(0.000001,1,1000)  # here linspace() makes an evenly spaced array from 0.000001 to 1 with 1000 points\n",
      "dGauss1 = d( delta, gauss1, 1.5 )    # we use the alternate definition of d for prettier code\n",
      "\n",
      "# plot and annotate\n",
      "plot( delta, dGauss1 )   \n",
      "ylabel(L\"$d_\\Delta G(x)$\")\n",
      "xlabel(L\"$\\Delta$\")\n",
      "title(\"Convergence of the Center Difference\")"
     ],
     "language": "python",
     "metadata": {},
     "outputs": []
    },
    {
     "cell_type": "markdown",
     "metadata": {},
     "source": [
      "Change $x$, the location where you're computing the derivative.\n",
      "\n",
      "Notice that the center difference <code>d</code> converges to its value at 0 like a parabola.  This is called **second-order accuracy**.  It's because we took the center difference, and not the *left* or *right* differece.  You might want to try to define a new function or two that takes the left or right difference, make plots similar to those above, and compare them.\n",
      "____"
     ]
    },
    {
     "cell_type": "markdown",
     "metadata": {},
     "source": [
      "Below we plot our numerical approximation to the derivative for our <code>gauss1()</code> function alongside the function itself."
     ]
    },
    {
     "cell_type": "code",
     "collapsed": false,
     "input": [
      "x = [-5:0.01:5]  # abscissa\n",
      "\n",
      "plot(x,[gauss1(x) d(0.000000001,gauss1,x)])\n",
      "legend({\"G\", L\"$\\frac{dG}{dx}$\"})\n",
      "xlabel(\"x\")\n",
      "title(\"Differentiating the Gaussian\")"
     ],
     "language": "python",
     "metadata": {},
     "outputs": []
    },
    {
     "cell_type": "markdown",
     "metadata": {},
     "source": [
      "___\n",
      "The second derivative of a function is the derivative of the derivative\n",
      "\n",
      "$$ \\frac{d}{dx}\\frac{d}{dx}F(x) $$\n",
      "\n",
      "also written\n",
      "\n",
      "$$ \\frac{d^2}{dx^2}F(x) .$$\n",
      "\n",
      "Copy, paste, and edit the code above to plot the second derivative of our Gaussian function as well.  This is kinda tricky.  Use the first defintion of our center difference function <code>d</code>."
     ]
    },
    {
     "cell_type": "code",
     "collapsed": false,
     "input": [],
     "language": "python",
     "metadata": {},
     "outputs": []
    },
    {
     "cell_type": "markdown",
     "metadata": {},
     "source": [
      "___\n",
      "\n",
      "Try computing the derivative of the functions you know and love. Here are some: $\\sin x$, $\\cos x$, $e^x$, $a x^n$."
     ]
    },
    {
     "cell_type": "code",
     "collapsed": false,
     "input": [],
     "language": "python",
     "metadata": {},
     "outputs": []
    },
    {
     "cell_type": "markdown",
     "metadata": {},
     "source": [
      "There are simple closed-form expressions for the derivatives of these functions.  Figure them out.\n",
      "\n",
      "*** Note to the Reader: I don't want to put the answers here so my class isn't tempted to give up.  You can find a table of these relations on Wikipedia or any single-variable calculus textbook.*** "
     ]
    },
    {
     "cell_type": "markdown",
     "metadata": {},
     "source": [
      "____\n",
      "\n",
      "Can you figure out how the derivative of a sum of two functions is related to those functions and their derivatives?\n",
      "\n",
      "$$ \\frac{d}{dx}(F + G)(x) =  ??? $$\n"
     ]
    },
    {
     "cell_type": "code",
     "collapsed": false,
     "input": [],
     "language": "python",
     "metadata": {},
     "outputs": []
    },
    {
     "cell_type": "markdown",
     "metadata": {},
     "source": [
      "***Hint: start with the simplest functions you know.  Makes plots to visualize what's going on.***"
     ]
    },
    {
     "cell_type": "markdown",
     "metadata": {},
     "source": [
      "The answer is called the **sum rule of differentiation**."
     ]
    },
    {
     "cell_type": "markdown",
     "metadata": {},
     "source": [
      "___\n",
      "\n",
      "How about the product?\n",
      "\n",
      "$$ \\frac{d}{dx}(F \\cdot G)(x) =  ??? $$\n",
      "\n",
      "where $ (F\\cdot G)(x) = F(x) \\cdot G(x). $"
     ]
    },
    {
     "cell_type": "code",
     "collapsed": false,
     "input": [],
     "language": "python",
     "metadata": {},
     "outputs": []
    },
    {
     "cell_type": "markdown",
     "metadata": {},
     "source": [
      "The answer is called the **product rule**."
     ]
    },
    {
     "cell_type": "markdown",
     "metadata": {},
     "source": [
      "___\n",
      "\n",
      "How about the function of a function?\n",
      "\n",
      "$$ \\frac{d}{dx}(F \\circ G)(x) =  ??? $$\n",
      "\n",
      "where $\\circ$ means composition $ (F \\circ G)(x) = F(G(x)). $"
     ]
    },
    {
     "cell_type": "code",
     "collapsed": false,
     "input": [],
     "language": "python",
     "metadata": {},
     "outputs": []
    },
    {
     "cell_type": "markdown",
     "metadata": {},
     "source": [
      "The answer is called the **chain rule** and you will see it *a lot* if you continue studying mathematical subjects."
     ]
    },
    {
     "cell_type": "markdown",
     "metadata": {},
     "source": [
      "___"
     ]
    },
    {
     "cell_type": "heading",
     "level": 2,
     "metadata": {},
     "source": [
      "The Integral: addition plus the infinitesimal"
     ]
    },
    {
     "cell_type": "markdown",
     "metadata": {},
     "source": [
      "Ahh, the integral!  If you've ever seen this squiggly S-like symbol and the $dx$ thing before\n",
      "$$ \\int f(x) \\; dx = F(x), $$\n",
      "you've seen an integral.  In math, people write the integral of $f(x)$ with respect to $x$ like you see it above. In physics we write it as below\n",
      "$$ \\int\\!\\!dx \\;\\, f(x) = F(x).  $$\n",
      "I will write it like a physicist, because I'm indoctrinated and I think it's sexier.\n",
      "\n",
      "Like the derivative, an integral is an operator that takes in a function and returns a function.  Let's just look at the derivative and the integral next to eachother, shall we?\n",
      "\n",
      "$$  \\frac{d}{dx} \\int\\!\\! dx \\;\\, f(x) = f(x) $$\n",
      "\n",
      "Okay, great.  So what does integration do to the function we give it?  It's time for another unrigorous definition.\n",
      "\n",
      "> The integral of a function $f$ is a function $F$ that when given a point $x$ in the domain of $F$ returns the area under $F$ between some reference point $x_0$ in the domain and $x$. \n",
      "\n",
      "Up top, the expressions I showed you represent **indefinite integrals**.  To be more clear, we will talk about **definite integrals** as defined above.  The symbols used to represent a definite integral as defined above are\n",
      "\n",
      "$$\\int_{x_0}^x\\!\\! dy \\;\\, f(y) = F(x)$$\n",
      "\n",
      "where $y$ is just a dummy variable that is integrated over.  This dummy variable may confuse you, but it's just the way we write this integral operator.\n",
      "That is to say $\\int_{x_0}$ is an operator that acts on the function $f$ to give us a new function that we write like this $\\int_{x_0}\\!\\! dy \\;\\, f(y)$. We can evaluate this new function at $x$,  $\\left(\\int_{x_0}\\!\\! dy \\;\\, f(y)\\right)(x)$ and write it like this $\\int_{x_0}^x\\!\\! dy\\;\\, f(y)$.  What we mean by all this is exactly stated in the definition above.\n",
      "\n",
      "We will approximate integration by cutting up the function between $x_0$ and $x$ into little rectangles of width $\\Delta$ that fit under the curve, and sum up their areas.  This is called a **Riemann sum**.\n",
      "\n",
      "![alt As discussed above, a curve is subdivided into rectangles of width delta and their areas are summed.](http://www.vias.org/calculus/img/04_integration-10.gif \"Riemann Sum\")\n",
      "\n",
      "Before making a nice integrate function, we'll make a simple one that is easier to understand."
     ]
    },
    {
     "cell_type": "code",
     "collapsed": false,
     "input": [
      "riemann(delta, x0 = 0)= (f -> (x -> sum( delta * map( f, x0:delta:x ) ) ) ) "
     ],
     "language": "python",
     "metadata": {},
     "outputs": []
    },
    {
     "cell_type": "markdown",
     "metadata": {},
     "source": [
      "This cuts up the interval between $x_0$ and $x$ into pieces that are seperated by $\\Delta$ and gives us an array.  The function $F$ is then applied to each element of the array with <code>map()</code> to give us a new array that is the heights of each of the rectangles in the figure above.  Those heights are then multiplied by the widths of the rectangle. Finally the area of the areas of those little rectangles is added up with <code>sum()</code>. "
     ]
    },
    {
     "cell_type": "code",
     "collapsed": false,
     "input": [
      "riemann(0.00001)(x -> x)(1)"
     ],
     "language": "python",
     "metadata": {},
     "outputs": []
    },
    {
     "cell_type": "markdown",
     "metadata": {},
     "source": [
      "Here we cut up the domain between $x_0$ and $x$ into pieces that are $\\Delta$ long (what does julia do if $x - x_0$ is not divisible by $\\Delta$?).  Then we evaluate the function F at each of those points using the <code>map()</code> function.  We multiply by the width of the interval $\\Delta$ to get an approximate area under the curve for that interval.  Finally we add up the areas of all the little boxes with the <code> sum()</code> function.\n",
      "\n",
      "Our numerical approximation to the derivative was second-order accurate.  That's pretty nice.  Making the integral second-order accurate is a little more complicated, but is very similar to using the center difference which is kind of like a combination of the first-order accurate left and right differences. "
     ]
    },
    {
     "cell_type": "code",
     "collapsed": false,
     "input": [
      "######################################\n",
      "#\n",
      "#  I : centered Riemann sum\n",
      "#\n",
      "#  I(delta, (x0) )\n",
      "#\n",
      "#    Given (delta) returns a function that\n",
      "#    takes a function (f) and returns a function\n",
      "#    of (x) that is a centered Riemann sum between\n",
      "#    the optional (x0) parameter and (x).\n",
      "#\n",
      "######################################\n",
      "\n",
      "\n",
      " leftRiemann(delta,x0 = 0) = (f -> (x -> map(z -> map( y -> (a = (x0<z)*2-1; sum( a * y * map(f, x0: a*abs(delta):z  ))) , delta),x)))\n",
      "rightRiemann(delta,x0 = 0) = (f -> (x -> map(z -> map( y -> (a = (x0<z)*2-1; sum( a * y * map(f,  z:-a*abs(delta):x0 ))) , delta),x)))\n",
      "\n",
      "I(delta, x0 = 0) = (f -> (x -> (leftRiemann(delta,x0)(f)(x) + rightRiemann(delta,x0)(f)(x))/2))"
     ],
     "language": "python",
     "metadata": {},
     "outputs": []
    },
    {
     "cell_type": "markdown",
     "metadata": {},
     "source": [
      "The <code> x0 = 0 </code> in the function signatures above gives a default value if it is not specified.  That's why 2 methods are generated as shown in the output."
     ]
    },
    {
     "cell_type": "code",
     "collapsed": false,
     "input": [
      "I(0.0001)(gauss1)(2)"
     ],
     "language": "python",
     "metadata": {},
     "outputs": []
    },
    {
     "cell_type": "markdown",
     "metadata": {},
     "source": [
      "___\n",
      "\n",
      "Let's make a convenient definition for <code>I</code> like we did for <code>d</code> to show\n",
      "\n",
      "$$ \\lim_{\\Delta\\to 0}I_{\\Delta,x_0}f(x) = \\int_{x_0}^x \\!\\! dy\\;\\, f(y). $$"
     ]
    },
    {
     "cell_type": "code",
     "collapsed": false,
     "input": [
      "I(delta, f, x, x0 = 0) = (leftRiemann(delta,x0)(f)(x) + rightRiemann(delta,x0)(f)(x))/2"
     ],
     "language": "python",
     "metadata": {},
     "outputs": []
    },
    {
     "cell_type": "markdown",
     "metadata": {},
     "source": [
      "Optional arguments must be placed at the end of the function signature.\n",
      "___"
     ]
    },
    {
     "cell_type": "markdown",
     "metadata": {},
     "source": [
      "Which do you think it takes longer to compute: the derivative or the integral?\n",
      "\n",
      "Use the function <code>tic()</code> and <code>toc()</code> to examine the performance of these functions.\n",
      "These functions work as you would guess, but maybe you should check what they do using the [standard library docs](http://julialang.org) at [julialang.org](http://julialang.org)."
     ]
    },
    {
     "cell_type": "code",
     "collapsed": false,
     "input": [],
     "language": "python",
     "metadata": {},
     "outputs": []
    },
    {
     "cell_type": "markdown",
     "metadata": {},
     "source": [
      "Check out how the time increases as you change the step size $\\Delta$.  Maybe you should make plots of this.  That'd be pretty cool. With a legend. Yeah, a legend."
     ]
    },
    {
     "cell_type": "code",
     "collapsed": false,
     "input": [],
     "language": "python",
     "metadata": {},
     "outputs": []
    },
    {
     "cell_type": "markdown",
     "metadata": {},
     "source": [
      "___\n",
      "\n",
      "Let's explore the integral.  When we made the derivative, the first thing we did is we checked to see how the center differece, our numerical approximation of the derivative, converges to a value as the step size $\\Delta \\to 0$.  Do the same for <code> I </code>, our numerical approximation to the integral.\n",
      "\n",
      "You may want to copy, paste, and modify the code above for the convergence of the center difference."
     ]
    },
    {
     "cell_type": "code",
     "collapsed": false,
     "input": [],
     "language": "python",
     "metadata": {},
     "outputs": []
    },
    {
     "cell_type": "markdown",
     "metadata": {},
     "source": [
      "Is our function <code>I</code>  first-order or second-order accurate?  How about the function <code>rightRiemann()</code>?\n",
      "___\n",
      "\n",
      "Now we pick a step size and evaluate the integral of our Gaussian $I_\\Delta G(x)$ at a number of points. "
     ]
    },
    {
     "cell_type": "code",
     "collapsed": false,
     "input": [
      "x = [-5:0.1:5]  # abscissa\n",
      "\n",
      "plot(x,[gauss1(x) I(0.001,gauss1,x)])\n",
      "legend({\"G\", L\"$I_\\Delta G(x)$\"})\n",
      "xlabel(\"x\")\n",
      "title(\"Integrating the Gaussian\")"
     ],
     "language": "python",
     "metadata": {},
     "outputs": []
    },
    {
     "cell_type": "markdown",
     "metadata": {},
     "source": [
      "Keeping in mind what you learned about how computationally difficult it is to find I, play with the number of points plotted and the step size.\n",
      "\n",
      "If julia takes too long to do something, you can interrupt the Kernel using the options on the notebook's toolbar.\n",
      "\n",
      "___\n",
      "\n",
      "Just like you did for derivatives, explore the integrals of the functions you know and love: $\\sin x$, $\\cos x$, $e^x$, $1/x$, polynomials, whatever.\n"
     ]
    },
    {
     "cell_type": "code",
     "collapsed": false,
     "input": [],
     "language": "python",
     "metadata": {},
     "outputs": []
    },
    {
     "cell_type": "markdown",
     "metadata": {},
     "source": [
      "These too have closed-form expressions.  Try to figure them out.\n",
      "___\n",
      "\n",
      "Something very intesting is going on here...\n",
      "Compare the relations you found for integrals to the relations you discovered for the derivatives.\n",
      "____"
     ]
    },
    {
     "cell_type": "heading",
     "level": 2,
     "metadata": {},
     "source": [
      "Fundamental Theorem of Calculus"
     ]
    },
    {
     "cell_type": "markdown",
     "metadata": {},
     "source": [
      "You know how to compute derivatives.  You know how to compute integrals. Now for the big question:\n",
      "\n",
      "**How do derivatives relate to integrals?**\n",
      "\n",
      "Pick a function.  Perhaps our bell-curve from above, but anything, it doesn't matter.\n",
      "\n",
      "Compute the derivative of the integral and the integral of the derivative.  Make plots."
     ]
    },
    {
     "cell_type": "code",
     "collapsed": false,
     "input": [],
     "language": "python",
     "metadata": {},
     "outputs": []
    },
    {
     "cell_type": "markdown",
     "metadata": {},
     "source": [
      "This relationship is called the **fundamental theorem of calculus** and it is one of the most beautiful results of calculus.\n",
      "___"
     ]
    }
   ],
   "metadata": {}
  }
 ]
}